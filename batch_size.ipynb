{
 "cells": [
  {
   "cell_type": "code",
   "execution_count": 14,
   "metadata": {},
   "outputs": [
    {
     "name": "stdout",
     "output_type": "stream",
     "text": [
      "0 10\n",
      "10 20\n",
      "20 30\n",
      "30 40\n",
      "40 50\n",
      "50 60\n",
      "60 70\n",
      "70 80\n",
      "80 90\n",
      "90 100\n",
      "100 110\n",
      "110 117\n"
     ]
    }
   ],
   "source": [
    "n = 117\n",
    "batch = 10\n",
    "remainder = n % batch\n",
    "if remainder == 0:\n",
    "    it = n//batch\n",
    "else:\n",
    "    it = n//batch + 1\n",
    "\n",
    "start = 0\n",
    "for i in range(it):\n",
    "    \n",
    "    if i == it-1:\n",
    "        end = start + remainder\n",
    "        print(start,end)\n",
    "        continue\n",
    "        \n",
    "    end = (i+1)*batch\n",
    "    print(start,end)\n",
    "    start = end"
   ]
  },
  {
   "cell_type": "code",
   "execution_count": null,
   "metadata": {},
   "outputs": [],
   "source": []
  },
  {
   "cell_type": "code",
   "execution_count": 21,
   "metadata": {},
   "outputs": [],
   "source": [
    "def batch_tuple(n, batch_size):\n",
    "    \n",
    "    remainder = n % batch\n",
    "    if remainder == 0:\n",
    "        it = n//batch\n",
    "    else:\n",
    "        it = n//batch + 1\n",
    "    \n",
    "    start = 0\n",
    "    li = []\n",
    "    for i in range(it):\n",
    "    \n",
    "        if i == it-1:\n",
    "            end = start + remainder\n",
    "            tupl = (start,end)\n",
    "            li.append(tupl)\n",
    "            continue\n",
    "        \n",
    "        end = (i+1)*batch\n",
    "        tupl = (start,end)\n",
    "        li.append(tupl)\n",
    "        start = end\n",
    "        \n",
    "    return(li)\n",
    "    \n",
    "    \n",
    "\n",
    "    "
   ]
  },
  {
   "cell_type": "code",
   "execution_count": 24,
   "metadata": {},
   "outputs": [
    {
     "data": {
      "text/plain": [
       "[(0, 10),\n",
       " (10, 20),\n",
       " (20, 30),\n",
       " (30, 40),\n",
       " (40, 50),\n",
       " (50, 60),\n",
       " (60, 70),\n",
       " (70, 80),\n",
       " (80, 90),\n",
       " (90, 100),\n",
       " (100, 103)]"
      ]
     },
     "execution_count": 24,
     "metadata": {},
     "output_type": "execute_result"
    }
   ],
   "source": [
    "batch_tuple(103,10)"
   ]
  },
  {
   "cell_type": "code",
   "execution_count": null,
   "metadata": {},
   "outputs": [],
   "source": []
  },
  {
   "cell_type": "code",
   "execution_count": null,
   "metadata": {},
   "outputs": [],
   "source": []
  }
 ],
 "metadata": {
  "kernelspec": {
   "display_name": "Python 3",
   "language": "python",
   "name": "python3"
  },
  "language_info": {
   "codemirror_mode": {
    "name": "ipython",
    "version": 3
   },
   "file_extension": ".py",
   "mimetype": "text/x-python",
   "name": "python",
   "nbconvert_exporter": "python",
   "pygments_lexer": "ipython3",
   "version": "3.7.3"
  }
 },
 "nbformat": 4,
 "nbformat_minor": 2
}
