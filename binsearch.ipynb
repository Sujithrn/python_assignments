{
 "cells": [
  {
   "cell_type": "code",
   "execution_count": 22,
   "metadata": {},
   "outputs": [
    {
     "name": "stdout",
     "output_type": "stream",
     "text": [
      "[3, 5, 7, 8, 9, 9, 10, 11, 13, 15, 17, 18]\n",
      "[3, 5, 7, 8, 9, 9, 10, 11, 13, 15, 17, 18]\n",
      "[3, 5, 7, 8, 9, 9, 10, 11, 13, 15, 17, 18]\n",
      "[3, 5, 7, 8, 9, 9, 10, 11, 13, 15, 17, 18]\n"
     ]
    },
    {
     "data": {
      "text/plain": [
       "'x not found'"
      ]
     },
     "execution_count": 22,
     "metadata": {},
     "output_type": "execute_result"
    }
   ],
   "source": [
    "def bin_search(li,low,high,x):\n",
    "    print(li)\n",
    "    if (high>=low):\n",
    "        mid = (low+high-1)//2\n",
    "        if li[mid]==x:\n",
    "            print (\"search cmplete value foud in lst\")\n",
    "        elif (li[mid]>x): \n",
    "            return bin_search(li,low,mid-1,x)\n",
    "        else:\n",
    "            return bin_search(li,mid+1,high,x)\n",
    "    else:\n",
    "        return('x not found')\n",
    "    \n",
    "li = [3,8,7,9,5,11,9,10,13,15,18,17]\n",
    "li.sort()\n",
    "low = 1\n",
    "high = len(li)-1\n",
    "x =0\n",
    "bin_search(li,low,high,x)\n",
    "    "
   ]
  },
  {
   "cell_type": "code",
   "execution_count": null,
   "metadata": {},
   "outputs": [],
   "source": []
  },
  {
   "cell_type": "code",
   "execution_count": 21,
   "metadata": {},
   "outputs": [
    {
     "name": "stdout",
     "output_type": "stream",
     "text": [
      "[3, 5, 7, 8, 9, 9, 10, 11, 13, 15, 17, 18]\n",
      "[3, 5, 7, 8, 9, 9, 10, 11, 13, 15, 17, 18]\n",
      "[3, 5, 7, 8, 9, 9, 10, 11, 13, 15, 17, 18]\n",
      "[3, 5, 7, 8, 9, 9, 10, 11, 13, 15, 17, 18]\n"
     ]
    }
   ],
   "source": [
    "def bin_search(value, array, low, high):\n",
    "    \n",
    "    if low == high:\n",
    "        return\n",
    "    \n",
    "    mid = int((low + high)/2)\n",
    "    print(array)\n",
    "    if value == array[mid]:\n",
    "        print(\"Value {} found at index {}\".format(value, mid))\n",
    "        return\n",
    "    if value < array[mid]:\n",
    "        high = mid\n",
    "        bin_search(value, array, low, high)\n",
    "    else:\n",
    "        low = mid\n",
    "        bin_search(value, array, low, high)\n",
    "        \n",
    "i = [3,8,7,9,5,11,9,10,13,15,18,17]\n",
    "li.sort()\n",
    "low = 1\n",
    "high = len(li)-1\n",
    "x =0\n",
    "bin_search(x,li,0,len(li))"
   ]
  },
  {
   "cell_type": "code",
   "execution_count": 28,
   "metadata": {},
   "outputs": [
    {
     "data": {
      "text/plain": [
       "[0, 1, 2, 3, 4, 5, 6, 7, 8, 9]"
      ]
     },
     "execution_count": 28,
     "metadata": {},
     "output_type": "execute_result"
    }
   ],
   "source": [
    "list(range(10))"
   ]
  },
  {
   "cell_type": "code",
   "execution_count": 30,
   "metadata": {},
   "outputs": [],
   "source": [
    "#### Cubes\n",
    "temp = []\n",
    "for item in range(10):\n",
    "    temp.append(item*item*item)"
   ]
  },
  {
   "cell_type": "code",
   "execution_count": 31,
   "metadata": {},
   "outputs": [
    {
     "data": {
      "text/plain": [
       "[0, 1, 8, 27, 64, 125, 216, 343, 512, 729]"
      ]
     },
     "execution_count": 31,
     "metadata": {},
     "output_type": "execute_result"
    }
   ],
   "source": [
    "temp"
   ]
  },
  {
   "cell_type": "code",
   "execution_count": 33,
   "metadata": {},
   "outputs": [],
   "source": [
    "temp = [item*item*item for item in range(10)]"
   ]
  },
  {
   "cell_type": "code",
   "execution_count": 34,
   "metadata": {},
   "outputs": [
    {
     "data": {
      "text/plain": [
       "[0, 1, 8, 27, 64, 125, 216, 343, 512, 729]"
      ]
     },
     "execution_count": 34,
     "metadata": {},
     "output_type": "execute_result"
    }
   ],
   "source": [
    "temp"
   ]
  },
  {
   "cell_type": "code",
   "execution_count": null,
   "metadata": {},
   "outputs": [],
   "source": []
  }
 ],
 "metadata": {
  "kernelspec": {
   "display_name": "Python 3",
   "language": "python",
   "name": "python3"
  },
  "language_info": {
   "codemirror_mode": {
    "name": "ipython",
    "version": 3
   },
   "file_extension": ".py",
   "mimetype": "text/x-python",
   "name": "python",
   "nbconvert_exporter": "python",
   "pygments_lexer": "ipython3",
   "version": "3.7.3"
  }
 },
 "nbformat": 4,
 "nbformat_minor": 2
}
