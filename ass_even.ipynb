{
 "cells": [
  {
   "cell_type": "code",
   "execution_count": 2,
   "metadata": {},
   "outputs": [
    {
     "name": "stdout",
     "output_type": "stream",
     "text": [
      "Enter a number 5\n",
      "Enter a different intiger 7\n",
      "Enter a different intiger 9\n",
      "Enter a different intiger 13\n",
      "Enter a different intiger 12\n",
      "Congrats the number is even\n"
     ]
    }
   ],
   "source": [
    "x = int(input('Enter a number '))\n",
    "while (x>0 and x%2!=0):\n",
    "    x = int(input('Enter a different intiger '))\n",
    "else:\n",
    "    print('Congrats the number is even')\n",
    "    "
   ]
  },
  {
   "cell_type": "code",
   "execution_count": null,
   "metadata": {},
   "outputs": [],
   "source": []
  }
 ],
 "metadata": {
  "kernelspec": {
   "display_name": "Python 3",
   "language": "python",
   "name": "python3"
  },
  "language_info": {
   "codemirror_mode": {
    "name": "ipython",
    "version": 3
   },
   "file_extension": ".py",
   "mimetype": "text/x-python",
   "name": "python",
   "nbconvert_exporter": "python",
   "pygments_lexer": "ipython3",
   "version": "3.7.3"
  }
 },
 "nbformat": 4,
 "nbformat_minor": 2
}
