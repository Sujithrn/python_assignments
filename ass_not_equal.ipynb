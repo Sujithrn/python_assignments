{
 "cells": [
  {
   "cell_type": "code",
   "execution_count": 10,
   "metadata": {},
   "outputs": [
    {
     "name": "stdout",
     "output_type": "stream",
     "text": [
      "Provide input a w\n",
      "Provide input b s\n",
      "Result  True\n"
     ]
    }
   ],
   "source": [
    "def not_equal(a,b):\n",
    "    if (a==b):\n",
    "        return False\n",
    "    else:\n",
    "        return True\n",
    "\n",
    "a = input('Provide input a ')\n",
    "b = input('Provide input b ')\n",
    "print('Result ', not_equal(a,b))\n",
    "\n",
    "    "
   ]
  }
 ],
 "metadata": {
  "kernelspec": {
   "display_name": "Python 3",
   "language": "python",
   "name": "python3"
  },
  "language_info": {
   "codemirror_mode": {
    "name": "ipython",
    "version": 3
   },
   "file_extension": ".py",
   "mimetype": "text/x-python",
   "name": "python",
   "nbconvert_exporter": "python",
   "pygments_lexer": "ipython3",
   "version": "3.7.3"
  }
 },
 "nbformat": 4,
 "nbformat_minor": 2
}
