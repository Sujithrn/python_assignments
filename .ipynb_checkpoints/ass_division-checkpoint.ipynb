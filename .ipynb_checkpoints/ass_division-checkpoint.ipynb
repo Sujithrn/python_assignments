{
 "cells": [
  {
   "cell_type": "code",
   "execution_count": 4,
   "metadata": {},
   "outputs": [
    {
     "name": "stdout",
     "output_type": "stream",
     "text": [
      "Enter the divident 3\n",
      "Enter the divisor 2\n",
      "Result  False\n"
     ]
    }
   ],
   "source": [
    "def divisible(m,n):\n",
    "    if (m%n==0):\n",
    "        return True\n",
    "    else:\n",
    "        return False\n",
    "m = int(input('Enter the divident '))\n",
    "n = int(input('Enter the divisor '))\n",
    "print('Result ' , divisible(m,n))"
   ]
  },
  {
   "cell_type": "code",
   "execution_count": null,
   "metadata": {},
   "outputs": [],
   "source": []
  },
  {
   "cell_type": "code",
   "execution_count": null,
   "metadata": {},
   "outputs": [],
   "source": []
  }
 ],
 "metadata": {
  "kernelspec": {
   "display_name": "Python 3",
   "language": "python",
   "name": "python3"
  },
  "language_info": {
   "codemirror_mode": {
    "name": "ipython",
    "version": 3
   },
   "file_extension": ".py",
   "mimetype": "text/x-python",
   "name": "python",
   "nbconvert_exporter": "python",
   "pygments_lexer": "ipython3",
   "version": "3.7.3"
  }
 },
 "nbformat": 4,
 "nbformat_minor": 2
}
