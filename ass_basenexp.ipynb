{
 "cells": [
  {
   "cell_type": "code",
   "execution_count": 4,
   "metadata": {},
   "outputs": [
    {
     "name": "stdout",
     "output_type": "stream",
     "text": [
      "Enter the base value 4\n",
      "Enter the exponential value 4\n",
      "0\n"
     ]
    }
   ],
   "source": [
    "base = [int(input('Enter the base value '))]\n",
    "exp = [int(input('Enter the exponential value '))]\n",
    "for x in base:\n",
    "    for y in exp:\n",
    "        print(x^y)\n"
   ]
  },
  {
   "cell_type": "code",
   "execution_count": 7,
   "metadata": {},
   "outputs": [
    {
     "name": "stdout",
     "output_type": "stream",
     "text": [
      "Enter the base value 12\n",
      "Enter the exponential value 23\n",
      "Result  6624737266949237011120128\n"
     ]
    }
   ],
   "source": [
    "base = int(input('Enter the base value '))\n",
    "exp = int(input('Enter the exponential value '))\n",
    "def power(base,exp):\n",
    "    if (exp==1):\n",
    "        return base\n",
    "    if (exp!=1):\n",
    "        return (base*power(base,exp-1))\n",
    "print('Result ',power(base,exp))\n",
    "\n",
    "    \n",
    "    "
   ]
  },
  {
   "cell_type": "code",
   "execution_count": null,
   "metadata": {},
   "outputs": [],
   "source": []
  }
 ],
 "metadata": {
  "kernelspec": {
   "display_name": "Python 3",
   "language": "python",
   "name": "python3"
  },
  "language_info": {
   "codemirror_mode": {
    "name": "ipython",
    "version": 3
   },
   "file_extension": ".py",
   "mimetype": "text/x-python",
   "name": "python",
   "nbconvert_exporter": "python",
   "pygments_lexer": "ipython3",
   "version": "3.7.3"
  }
 },
 "nbformat": 4,
 "nbformat_minor": 2
}
